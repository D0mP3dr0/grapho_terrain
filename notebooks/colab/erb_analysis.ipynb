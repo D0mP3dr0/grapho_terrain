{
  "cells": [
    {
      "cell_type": "code",
      "source": [
        "# Grapho Terrain - Análise de ERBs\n",
        "# Este notebook permite executar análises de ERBs utilizando a biblioteca grapho_terrain no Google Colab.\n",
        "\n",
        "# Clonar o repositório\n",
        "!git clone https://github.com/D0mP3dr0/grapho_terrain.git\n",
        "!cd grapho_terrain && pip install -e .\n",
        "\n",
        "# Importar bibliotecas necessárias\n",
        "import numpy as np\n",
        "import pandas as pd\n",
        "import geopandas as gpd\n",
        "import matplotlib.pyplot as plt\n",
        "\n",
        "# Importar módulos do grapho_terrain\n",
        "from grapho_terrain.telecommunications.erb import ERB\n",
        "from grapho_terrain.telecommunications.coverage import calcular_eirp, calcular_raio_cobertura_aprimorado\n",
        "\n",
        "print(\"Notebook de análise de ERBs configurado com sucesso!\")"
      ],
      "metadata": {
        "id": "yWm7FH9fD_oW"
      },
      "execution_count": null,
      "outputs": []
    }
  ],
  "metadata": {
    "language_info": {
      "name": "python"
    },
    "colab": {
      "provenance": []
    }
  },
  "nbformat": 4,
  "nbformat_minor": 0
}