{
  "cells": [
    {
      "cell_type": "code",
      "source": [
        "# Grapho Terrain - Análise de Terreno\n",
        "# Este notebook permite executar análises de terreno utilizando a biblioteca grapho_terrain no Google Colab.\n",
        "\n",
        "# Clonar o repositório\n",
        "!git clone https://github.com/D0mP3dr0/grapho_terrain.git\n",
        "!cd grapho_terrain && pip install -e .\n",
        "\n",
        "# Importar bibliotecas necessárias\n",
        "import numpy as np\n",
        "import pandas as pd\n",
        "import geopandas as gpd\n",
        "import matplotlib.pyplot as plt\n",
        "\n",
        "# Importar módulos do grapho_terrain\n",
        "from grapho_terrain.terrain.dem import load_dem, calculate_slope\n",
        "\n",
        "print(\"Notebook de análise de terreno configurado com sucesso!\")"
      ],
      "metadata": {
        "id": "-xZJfehxF-gG"
      },
      "execution_count": null,
      "outputs": []
    }
  ],
  "metadata": {
    "language_info": {
      "name": "python"
    },
    "colab": {
      "provenance": []
    }
  },
  "nbformat": 4,
  "nbformat_minor": 0
}